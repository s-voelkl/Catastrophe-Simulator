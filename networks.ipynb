{
 "cells": [
  {
   "cell_type": "markdown",
   "id": "fad770e5",
   "metadata": {},
   "source": [
    "# Testing"
   ]
  },
  {
   "cell_type": "code",
   "execution_count": null,
   "id": "e1b017bd",
   "metadata": {},
   "outputs": [],
   "source": [
    "from schema import *\n",
    "import matplotlib.pyplot as plt\n",
    "import networkx as nx\n",
    "from typing import List, Dict, Tuple, Any\n",
    "import seaborn as sns"
   ]
  },
  {
   "cell_type": "markdown",
   "id": "7a13518b",
   "metadata": {},
   "source": [
    "## Mesa Agent & Model Test"
   ]
  },
  {
   "cell_type": "code",
   "execution_count": null,
   "id": "42db1ab1",
   "metadata": {},
   "outputs": [],
   "source": [
    "import mesa.mesa_logging\n",
    "\n",
    "\n",
    "mesa.mesa_logging.log_to_stderr()"
   ]
  },
  {
   "cell_type": "code",
   "execution_count": null,
   "id": "189f14e5",
   "metadata": {},
   "outputs": [],
   "source": [
    "# Initial model instance\n",
    "n_robot_agents = 2\n",
    "n_survivors = 5\n",
    "n_save_zones = 4\n",
    "width = 10\n",
    "height = 10\n",
    "\n",
    "environment = EnvironmentModel(\n",
    "    width=width,\n",
    "    height=height,\n",
    "    n_survivors=n_survivors,\n",
    "    n_robot_agents=n_robot_agents,\n",
    "    n_save_zones=n_save_zones,\n",
    "    seed=42,\n",
    ")\n",
    "\n",
    "print(\"All survivors rescued:\", environment.all_survivors_rescued())"
   ]
  },
  {
   "cell_type": "code",
   "execution_count": null,
   "id": "9982cdde",
   "metadata": {},
   "outputs": [],
   "source": [
    "for s in environment.survivors:\n",
    "    print(f\"Survivor at ({s.tile.x}, {s.tile.y}) with status {s.is_rescued}\")\n",
    "    \n",
    "for sz in environment.save_zones:\n",
    "    print(f\"Save zone at ({sz.tile.x}, {sz.tile.y})\")\n",
    "    \n",
    "for ra in environment.agents_by_type[RobotAgent]:\n",
    "    print(f\"Robot agent at ({ra.tile.x}, {ra.tile.y})\")"
   ]
  },
  {
   "cell_type": "code",
   "execution_count": null,
   "id": "14846484",
   "metadata": {},
   "outputs": [],
   "source": [
    "environment.visualize_graph()"
   ]
  },
  {
   "cell_type": "markdown",
   "id": "73c6615d",
   "metadata": {},
   "source": [
    "## Mean Wall density"
   ]
  },
  {
   "cell_type": "code",
   "execution_count": null,
   "id": "55cbb17d",
   "metadata": {},
   "outputs": [],
   "source": [
    "print(environment.get_mean_wall_density())\n",
    "\n",
    "# 2x2 -> 4\n",
    "# 3x3 -> 12\n",
    "# 4x4 -> 24\n",
    "# 5x5 -> 40. (breite -1) * höhe + (höhe -1) * breite\n",
    "# 10x10 -> 9* 10 + 9 * 10 = 180\n",
    "# 10 x 5 -> 9 * 5 + 4 * 10 = 85"
   ]
  },
  {
   "cell_type": "markdown",
   "id": "1ecc6d2f",
   "metadata": {},
   "source": [
    "## Pathlengths"
   ]
  },
  {
   "cell_type": "code",
   "execution_count": null,
   "id": "ecd1937c",
   "metadata": {},
   "outputs": [],
   "source": [
    "# for sz in environment.save_zones:\n",
    "#     pathlength = environment.get_pathlengths_savezone_to_survivors(sz)\n",
    "#     print(pathlength)\n",
    "#     print((sz.tile.x, sz.tile.y))\n",
    "\n",
    "pathlengths: List[int] = environment.get_pathlengths_savezones_to_survivors()\n",
    "min_pathlength: int = EnvironmentModel.get_min_pathlength(pathlengths=pathlengths)\n",
    "max_pathlength: int = EnvironmentModel.get_max_pathlength(pathlengths=pathlengths)\n",
    "mean_pathlength: float = EnvironmentModel.get_mean_pathlength(pathlengths=pathlengths)\n",
    "\n",
    "print(\"Path lengths from save zones to survivors:\")\n",
    "print(\"Minimum path length:\", min_pathlength)\n",
    "print(\"Maximum path length:\", max_pathlength)\n",
    "print(\"Mean path length:\", mean_pathlength)\n",
    "# for i in pathlengths:\n",
    "#     print(\"- Path length:\", i)\n",
    "\n",
    "# generate multiple plots\n",
    "sns.histplot(pathlengths, bins=10);"
   ]
  },
  {
   "cell_type": "markdown",
   "id": "4ea7b58c",
   "metadata": {},
   "source": [
    "## Mesa steps"
   ]
  },
  {
   "cell_type": "code",
   "execution_count": null,
   "id": "5bdd7ffa",
   "metadata": {},
   "outputs": [],
   "source": [
    "# environment.step()\n",
    "# environment.visualize_graph()\n",
    "# print(\"All survivors rescued:\", environment.all_survivors_rescued())"
   ]
  },
  {
   "cell_type": "code",
   "execution_count": null,
   "id": "3ea02bbc",
   "metadata": {},
   "outputs": [],
   "source": [
    "# run the model until end condition is met\n",
    "environment.run_model()\n",
    "\n",
    "print(\"Steps:\", environment.steps)\n",
    "environment.visualize_graph()"
   ]
  },
  {
   "cell_type": "code",
   "execution_count": null,
   "id": "6dd002b9",
   "metadata": {},
   "outputs": [],
   "source": [
    "# get data from environment.datacollector\n",
    "model_data = environment.datacollector.get_model_vars_dataframe()\n",
    "agent_data = environment.datacollector.get_agent_vars_dataframe()"
   ]
  },
  {
   "cell_type": "code",
   "execution_count": null,
   "id": "4979b99b",
   "metadata": {},
   "outputs": [],
   "source": [
    "print(\"Model data:\")\n",
    "print(model_data.columns)\n",
    "# from the first row, get the List[int] of PathLengthsSaveZonesToSurvivors as value\n",
    "sz_to_s_pathlengths: List[int] = model_data.iloc[0][\"InitialPathlengths\"]\n",
    "print(\"Mean Pathlength:\", EnvironmentModel.get_mean_pathlength(pathlengths=sz_to_s_pathlengths))\n",
    "\n",
    "model_data.head()"
   ]
  },
  {
   "cell_type": "code",
   "execution_count": null,
   "id": "05f4a3ee",
   "metadata": {},
   "outputs": [],
   "source": [
    "print(\"Agent data:\")\n",
    "agent_data"
   ]
  }
 ],
 "metadata": {
  "kernelspec": {
   "display_name": ".venv",
   "language": "python",
   "name": "python3"
  },
  "language_info": {
   "codemirror_mode": {
    "name": "ipython",
    "version": 3
   },
   "file_extension": ".py",
   "mimetype": "text/x-python",
   "name": "python",
   "nbconvert_exporter": "python",
   "pygments_lexer": "ipython3",
   "version": "3.13.2"
  }
 },
 "nbformat": 4,
 "nbformat_minor": 5
}
