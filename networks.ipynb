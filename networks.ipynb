{
 "cells": [
  {
   "cell_type": "markdown",
   "id": "fad770e5",
   "metadata": {},
   "source": [
    "# Testing"
   ]
  },
  {
   "cell_type": "code",
   "execution_count": null,
   "id": "e1b017bd",
   "metadata": {},
   "outputs": [],
   "source": [
    "from schema import *\n",
    "import matplotlib.pyplot as plt\n",
    "import networkx as nx\n",
    "from typing import List, Dict, Tuple, Any"
   ]
  },
  {
   "cell_type": "code",
   "execution_count": null,
   "id": "bf1f9560",
   "metadata": {},
   "outputs": [],
   "source": [
    "# environment: EnvironmentModel = EnvironmentModel(\n",
    "#     width=10, height=10, n_survivors=5, n_agents=2, n_save_zones=4, seed=None\n",
    "# )\n",
    "# environment.visualize_graph()"
   ]
  },
  {
   "cell_type": "markdown",
   "id": "7a13518b",
   "metadata": {},
   "source": [
    "## Mesa Agent & Model Test"
   ]
  },
  {
   "cell_type": "code",
   "execution_count": null,
   "id": "42db1ab1",
   "metadata": {},
   "outputs": [],
   "source": [
    "import mesa.mesa_logging\n",
    "\n",
    "\n",
    "mesa.mesa_logging.log_to_stderr()"
   ]
  },
  {
   "cell_type": "code",
   "execution_count": null,
   "id": "189f14e5",
   "metadata": {},
   "outputs": [],
   "source": [
    "# Initial model instance\n",
    "n_robot_agents = 1\n",
    "n_survivors = 5\n",
    "n_save_zones = 4\n",
    "width = 10\n",
    "height = 10\n",
    "\n",
    "environment = EnvironmentModel(\n",
    "    width=width, \n",
    "    height=height, \n",
    "    n_survivors=n_survivors, \n",
    "    n_robot_agents=n_robot_agents, \n",
    "    n_save_zones=n_save_zones, \n",
    "    seed=42\n",
    ")\n",
    "\n",
    "print(\"All survivors rescued:\", environment.all_survivors_rescued())"
   ]
  },
  {
   "cell_type": "code",
   "execution_count": null,
   "id": "14846484",
   "metadata": {},
   "outputs": [],
   "source": [
    "environment.visualize_graph()"
   ]
  },
  {
   "cell_type": "code",
   "execution_count": null,
   "id": "5bdd7ffa",
   "metadata": {},
   "outputs": [],
   "source": [
    "environment.step()\n",
    "environment.visualize_graph()\n",
    "print(\"All survivors rescued:\", environment.all_survivors_rescued())"
   ]
  },
  {
   "cell_type": "code",
   "execution_count": null,
   "id": "3ea02bbc",
   "metadata": {},
   "outputs": [],
   "source": [
    "for row in range(5):\n",
    "    print(\"Step:\", row + 1)\n",
    "    if environment.all_survivors_rescued(): break\n",
    "    \n",
    "    environment.step()\n",
    "    \n",
    "environment.visualize_graph()"
   ]
  },
  {
   "cell_type": "code",
   "execution_count": null,
   "id": "6dd002b9",
   "metadata": {},
   "outputs": [],
   "source": [
    "# get data from environment.data_collector\n",
    "model_data = environment.data_collector.get_model_vars_dataframe()\n",
    "agent_data = environment.data_collector.get_agent_vars_dataframe()"
   ]
  },
  {
   "cell_type": "code",
   "execution_count": null,
   "id": "4979b99b",
   "metadata": {},
   "outputs": [],
   "source": [
    "print(\"Model data:\")\n",
    "model_data.head()"
   ]
  },
  {
   "cell_type": "code",
   "execution_count": null,
   "id": "05f4a3ee",
   "metadata": {},
   "outputs": [],
   "source": [
    "print(\"Agent data:\")\n",
    "agent_data.head()"
   ]
  },
  {
   "cell_type": "code",
   "execution_count": null,
   "id": "2b3b5ce8",
   "metadata": {},
   "outputs": [],
   "source": [
    "def visualize_graph(self) -> None:\n",
    "    tiles: List[Tile] = Tile.transform_dict_to_tiles(self.maze)\n",
    "\n",
    "    G: nx.Graph = Tile.transform_tiles_to_graph(tiles)\n",
    "\n",
    "    labeldict = {}\n",
    "    for tile in tiles:\n",
    "        label: str = \"\"\n",
    "        survivors: int = 0\n",
    "        save_zones: int = 0\n",
    "        agents: int = 0\n",
    "        \n",
    "        # if tile is survivor, add a \"SURV\" to it.\n",
    "        for s in self.survivors:\n",
    "            if tile.x == s.tile.x and tile.y == s.tile.y:\n",
    "                survivors += 1\n",
    "        if survivors == 1:\n",
    "            label += \"SURV\\n\"\n",
    "        elif survivors > 1:\n",
    "            label += str(survivors) + \"SURVs\\n\"\n",
    "        \n",
    "\n",
    "        # if tile is save zone, add a \"SAVEZONE\" to it.\n",
    "        for sz in self.save_zones:\n",
    "            if tile.x == sz.tile.x and tile.y == sz.tile.y:\n",
    "                save_zones += 1\n",
    "        if save_zones == 1:\n",
    "            label += \"SAVE\\n\"\n",
    "        elif save_zones > 1:\n",
    "            label += str(save_zones) + \"SAVEs\\n\"\n",
    "\n",
    "        # if tile is agent, add a \"AGENT\" to it.\n",
    "        for ag in self.agents:\n",
    "            if tile.x == ag.tile.x and tile.y == ag.tile.y:\n",
    "                agents += 1\n",
    "        if agents == 1:\n",
    "            label += \"AGENT\\n\"\n",
    "        elif agents > 1:\n",
    "            label += str(agents) + \"AGENTs\\n\"\n",
    "\n",
    "        label += str(tile.x) + \",\" + str(tile.y)\n",
    "        labeldict[tile] = label\n",
    "\n",
    "    positioning = {}\n",
    "    for tile in tiles:\n",
    "        # position the tile in the graph\n",
    "        positioning[tile] = (tile.x, tile.y)\n",
    "\n",
    "    nx.draw(\n",
    "        G,\n",
    "        pos=positioning,\n",
    "        with_labels=True,\n",
    "        labels=labeldict,\n",
    "        node_size=40,\n",
    "        node_color=\"lightblue\",\n",
    "        font_size=10,\n",
    "        font_color=\"black\",\n",
    "        edge_color=\"gray\",\n",
    "    )\n",
    "    plt.savefig(GRAPH_VISUALISATION_FILE, dpi=300, bbox_inches=\"tight\")\n",
    "    plt.show()\n",
    "    return None"
   ]
  },
  {
   "cell_type": "code",
   "execution_count": null,
   "id": "653b75e9",
   "metadata": {},
   "outputs": [],
   "source": [
    "\n",
    "\n",
    "# import networkx as nx\n",
    "# import matplotlib.pyplot as plt\n",
    "# import random\n",
    "# from grave import plot_network, style_merger\n",
    "\n",
    "\n",
    "# def degree_colorer(node_attributes):\n",
    "#     deg = node_attributes[\"degree\"]\n",
    "#     shape = \"o\"  # random.choice(['s', 'o', '^', 'v', '8'])\n",
    "#     return {\"color\": \"b\", \"size\": 20 * deg, \"shape\": shape}\n",
    "\n",
    "\n",
    "# def font_styler(attributes):\n",
    "#     return {\"font_size\": 8, \"font_weight\": 0.5, \"font_color\": \"k\"}\n",
    "\n",
    "\n",
    "# def tiny_font_styler(attributes):\n",
    "#     return {\"font_size\": 4, \"font_weight\": 0.5, \"font_color\": \"r\"}\n",
    "\n",
    "\n",
    "# def pathological_edge_style(edge_attrs):\n",
    "#     return {\"color\": random.choice([\"r\", (0, 1, 0, 0.5), \"xkcd:ocean\"])}\n",
    "\n",
    "\n",
    "# network = nx.grid_2d_graph(4, 6)\n",
    "\n",
    "# nx.set_node_attributes(network, dict(network.degree()), \"degree\")\n",
    "\n",
    "# fig, ax = plt.subplots()\n",
    "# plot_network(\n",
    "#     network,\n",
    "#     ax=ax,\n",
    "#     layout=lambda G: {node: node for node in G},\n",
    "#     node_style=degree_colorer,\n",
    "#     edge_style=pathological_edge_style,\n",
    "#     node_label_style=font_styler,\n",
    "#     edge_label_style=tiny_font_styler,\n",
    "# )\n",
    "\n",
    "# plt.show()"
   ]
  }
 ],
 "metadata": {
  "kernelspec": {
   "display_name": ".venv",
   "language": "python",
   "name": "python3"
  },
  "language_info": {
   "codemirror_mode": {
    "name": "ipython",
    "version": 3
   },
   "file_extension": ".py",
   "mimetype": "text/x-python",
   "name": "python",
   "nbconvert_exporter": "python",
   "pygments_lexer": "ipython3",
   "version": "3.13.2"
  }
 },
 "nbformat": 4,
 "nbformat_minor": 5
}
