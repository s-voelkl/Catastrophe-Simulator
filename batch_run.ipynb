{
 "cells": [
  {
   "cell_type": "markdown",
   "id": "8b25c927",
   "metadata": {},
   "source": [
    "# Batch run of the environment model \n",
    "for higher quality results"
   ]
  },
  {
   "cell_type": "markdown",
   "id": "bed639b4",
   "metadata": {},
   "source": [
    "## setup"
   ]
  },
  {
   "cell_type": "code",
   "execution_count": null,
   "id": "17acd6f2",
   "metadata": {},
   "outputs": [],
   "source": [
    "import seaborn as sns\n",
    "import mesa\n",
    "from schema import *\n",
    "from typing import List, Dict, Any, Tuple\n",
    "import pandas as pd"
   ]
  },
  {
   "cell_type": "code",
   "execution_count": null,
   "id": "35e2f212",
   "metadata": {},
   "outputs": [],
   "source": [
    "parameters: Dict = {\n",
    "    \"width\": 10,\n",
    "    \"height\": 10,\n",
    "    \"n_survivors\": 5,\n",
    "    \"n_save_zones\": range(1,11),\n",
    "    \"n_robot_agents\": 1,\n",
    "    \"seed\": 42,\n",
    "}\n",
    "\n",
    "# if iterables: tries all possible combinations of the parameters"
   ]
  },
  {
   "cell_type": "markdown",
   "id": "d7b3957e",
   "metadata": {},
   "source": [
    "device specific option: number_processes:\n",
    "\n",
    "If not specified, defaults to 1. Set it to None to use all the available processors. \n",
    "\n",
    "Note: Multiprocessing does make debugging challenging. \n",
    "If your parameter sweeps are resulting in unexpected errors set number_processes=1.\n",
    "[see here](https://mesa.readthedocs.io/latest/tutorials/7_batch_run.html)"
   ]
  },
  {
   "cell_type": "code",
   "execution_count": null,
   "id": "ac3beec7",
   "metadata": {},
   "outputs": [],
   "source": [
    "\n",
    "batch_results = mesa.batch_run(\n",
    "    model_cls=EnvironmentModel,\n",
    "    parameters=parameters,\n",
    "    iterations=50, # for each possible combination of parameters\n",
    "    number_processes=None,\n",
    "    data_collection_period=-1,\n",
    "    display_progress=True,\n",
    "    max_steps=100,\n",
    ")"
   ]
  },
  {
   "cell_type": "code",
   "execution_count": null,
   "id": "e37b4e49",
   "metadata": {},
   "outputs": [],
   "source": [
    "results_df = pd.DataFrame(batch_results)\n",
    "print(f\"The results have {len(batch_results)} rows.\")\n",
    "print(f\"The columns of the data frame are {list(results_df.keys())}.\")"
   ]
  },
  {
   "cell_type": "code",
   "execution_count": null,
   "id": "5895238e",
   "metadata": {},
   "outputs": [],
   "source": [
    "results_df.head(2)"
   ]
  },
  {
   "cell_type": "code",
   "execution_count": null,
   "id": "a7449119",
   "metadata": {},
   "outputs": [],
   "source": [
    "# get the ratio of TilesMoved per SurvivorCount as the column \"TilesMovedPerSurvivorRatio\"\n",
    "results_df[\"TilesMovedPerSurvivorRatio\"] = results_df.apply(\n",
    "    lambda x: x[\"TilesMoved\"] / x[\"n_survivors\"] if x[\"n_survivors\"] > 0 else 0, axis=1\n",
    ")\n",
    "\n",
    "# get the ratio of TilesMoved per SaveZoneCount as the column \"TilesMovedPerSaveZoneRatio\"\n",
    "results_df[\"TilesMovedPerSaveZoneRatio\"] = results_df.apply(\n",
    "    lambda x: x[\"TilesMoved\"] / x[\"n_save_zones\"] if x[\"n_save_zones\"] > 0 else 0,\n",
    "    axis=1,\n",
    ")"
   ]
  },
  {
   "cell_type": "code",
   "execution_count": null,
   "id": "9b3581e4",
   "metadata": {},
   "outputs": [],
   "source": [
    "# sns.scatterplot(data=results_df, x=\"SurvivorCount\", y=\"TilesMoved\")\n",
    "sns.scatterplot(data=results_df, x=\"n_save_zones\", y=\"TilesMoved\")"
   ]
  },
  {
   "cell_type": "code",
   "execution_count": null,
   "id": "fdaeafe1",
   "metadata": {},
   "outputs": [],
   "source": [
    "# plot as a histogram\n",
    "# sns.boxenplot(data=results_df, x=\"SurvivorCount\", y=\"TilesMovedPerSurvivorRatio\")\n",
    "sns.boxenplot(data=results_df, x=\"n_save_zones\", y=\"TilesMoved\")"
   ]
  },
  {
   "cell_type": "code",
   "execution_count": null,
   "id": "59dc66c2",
   "metadata": {},
   "outputs": [],
   "source": []
  }
 ],
 "metadata": {
  "kernelspec": {
   "display_name": ".venv",
   "language": "python",
   "name": "python3"
  },
  "language_info": {
   "codemirror_mode": {
    "name": "ipython",
    "version": 3
   },
   "file_extension": ".py",
   "mimetype": "text/x-python",
   "name": "python",
   "nbconvert_exporter": "python",
   "pygments_lexer": "ipython3",
   "version": "3.13.2"
  }
 },
 "nbformat": 4,
 "nbformat_minor": 5
}
