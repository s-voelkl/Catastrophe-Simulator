{
 "cells": [
  {
   "cell_type": "markdown",
   "id": "8b25c927",
   "metadata": {},
   "source": [
    "# Batch run of the environment model \n",
    "for higher quality results"
   ]
  },
  {
   "cell_type": "markdown",
   "id": "bed639b4",
   "metadata": {},
   "source": [
    "## Batch run"
   ]
  },
  {
   "cell_type": "code",
   "execution_count": null,
   "id": "17acd6f2",
   "metadata": {},
   "outputs": [],
   "source": [
    "import seaborn as sns\n",
    "from schema import *\n",
    "from typing import Dict, Any, Tuple\n",
    "import pandas as pd\n",
    "import matplotlib.pyplot as plt\n",
    "import numpy as np"
   ]
  },
  {
   "cell_type": "code",
   "execution_count": null,
   "id": "35e2f212",
   "metadata": {},
   "outputs": [],
   "source": [
    "# if iterables: tries all possible combinations of the parameters\n",
    "# parameters: Dict = {\n",
    "#     \"width\": range(8, 15),\n",
    "#     \"height\": range(8, 15),\n",
    "#     \"n_survivors\": range(1, 11),\n",
    "#     \"n_save_zones\": range(1, 11),\n",
    "#     \"n_robot_agents\": range(1, 4),\n",
    "#     \"seed\": 42,\n",
    "# }\n",
    "\n",
    "parameters: Dict = {\n",
    "    \"width\": [8, 10, 12],\n",
    "    \"height\": [8, 10, 12],\n",
    "    \"n_survivors\": range(1, 11),\n",
    "    \"n_save_zones\": range(1, 11),\n",
    "    \"n_robot_agents\": [1, 2, 4],\n",
    "    \"seed\": 42,\n",
    "}\n",
    "\n",
    "# calculate the number of iterations for all parameters\n",
    "count = 1\n",
    "for key, value in parameters.items():\n",
    "    # value can be a list or a range\n",
    "    if isinstance(value, range):\n",
    "        count *= len(list(value))\n",
    "    elif isinstance(value, list):\n",
    "        count *= len(value)\n",
    "print(\"Count of combinations:\", count)"
   ]
  },
  {
   "cell_type": "code",
   "execution_count": null,
   "id": "11350ab6",
   "metadata": {},
   "outputs": [],
   "source": [
    "# if true -> run batch\n",
    "# if false -> load pickle file from output folder\n",
    "run_batch = False"
   ]
  },
  {
   "cell_type": "code",
   "execution_count": null,
   "id": "ac3beec7",
   "metadata": {},
   "outputs": [],
   "source": [
    "if run_batch:\n",
    "    batch_results = mesa.batch_run(\n",
    "        model_cls=EnvironmentModel,\n",
    "        parameters=parameters,\n",
    "        iterations=2, # for each possible combination of parameters\n",
    "        number_processes=None,\n",
    "        data_collection_period=-1,\n",
    "        display_progress=True,\n",
    "        max_steps=100,\n",
    "    )\n",
    "    # auto multiprocessing if number_processes is None"
   ]
  },
  {
   "cell_type": "code",
   "execution_count": null,
   "id": "e37b4e49",
   "metadata": {},
   "outputs": [],
   "source": [
    "PICKLE_FILE = \"./output/batch_results.pkl\"\n",
    "df: pd.DataFrame = None\n",
    "\n",
    "if run_batch:\n",
    "    df = pd.DataFrame(batch_results)\n",
    "    pd.DataFrame.to_pickle(df, PICKLE_FILE)\n",
    "\n",
    "else:\n",
    "    # load the results from the pickle file\n",
    "    try:\n",
    "        df = pd.DataFrame(pd.read_pickle(PICKLE_FILE))\n",
    "    except:\n",
    "        print(\"batch results not available, file not found, etc.\")\n",
    "\n",
    "print(f\"The results have {len(df)} rows.\")\n",
    "print(f\"The results have {len(df.columns)} columns.\")\n",
    "print(\"Columns:\")\n",
    "print(df.columns)\n",
    "df.head()"
   ]
  },
  {
   "cell_type": "markdown",
   "id": "d994689c",
   "metadata": {},
   "source": [
    "## Data transformation"
   ]
  },
  {
   "cell_type": "code",
   "execution_count": null,
   "id": "a7449119",
   "metadata": {},
   "outputs": [],
   "source": [
    "# drop cols\n",
    "df.drop(\n",
    "    [\n",
    "        \"seed\", \n",
    "        \"Survivors\", \n",
    "        \"SaveZones\", \n",
    "        \"MazeWidth\", \n",
    "        \"MazeHeight\", \n",
    "        \"AllSurvivorsRescued\", \n",
    "        \"Tile\", \n",
    "        \"StillRunning\",\n",
    "        \"AgentID\",\n",
    "        \"TransportedSurvivor\",\n",
    "    ],\n",
    "    axis=1,\n",
    "    inplace=True,\n",
    ")\n",
    "print(f\"The results have reduced {len(df.columns)} columns.\")\n",
    "print(df.columns)\n",
    "\n",
    "# get the ratio of TilesMoved per SurvivorCount as the column \"TilesMovedPerSurvivor\"\n",
    "df[\"TilesMovedPerSurvivor\"] = df.apply(\n",
    "    lambda x: x[\"TilesMoved\"] / x[\"n_survivors\"] if x[\"n_survivors\"] > 0 else 0, axis=1\n",
    ")\n",
    "\n",
    "# get the ratio of TilesMoved per SaveZoneCount as the column \"TilesMovedPerSaveZone\"\n",
    "df[\"TilesMovedPerSaveZone\"] = df.apply(\n",
    "    lambda x: x[\"TilesMoved\"] / x[\"n_save_zones\"] if x[\"n_save_zones\"] > 0 else 0,\n",
    "    axis=1,\n",
    ")\n",
    "\n",
    "# get pathlengths parameters. only works if data_collection_period is set to 1\n",
    "df[\"PathlengthMin\"] = df.apply(\n",
    "    lambda x: EnvironmentModel.get_min_pathlength(\n",
    "        x[\"InitialPathlengths\"]\n",
    "    ),\n",
    "    axis=1,\n",
    ")\n",
    "df[\"PathlengthMax\"] = df.apply(\n",
    "    lambda x: EnvironmentModel.get_max_pathlength(x[\"InitialPathlengths\"]),\n",
    "    axis=1,\n",
    ")\n",
    "df[\"PathlengthMean\"] = df.apply(\n",
    "    lambda x: EnvironmentModel.get_mean_pathlength(x[\"InitialPathlengths\"]),\n",
    "    axis=1,\n",
    ")"
   ]
  },
  {
   "cell_type": "code",
   "execution_count": null,
   "id": "9b3581e4",
   "metadata": {},
   "outputs": [],
   "source": [
    "# sns.scatterplot(data=results_df, x=\"SurvivorCount\", y=\"TilesMoved\")\n",
    "sns.scatterplot(data=df, x=\"n_save_zones\", y=\"TilesMoved\")"
   ]
  },
  {
   "cell_type": "markdown",
   "id": "0cfab352",
   "metadata": {},
   "source": [
    "## Data analysis"
   ]
  },
  {
   "cell_type": "code",
   "execution_count": null,
   "id": "fdaeafe1",
   "metadata": {},
   "outputs": [],
   "source": [
    "# plot as a histogram\n",
    "# sns.boxenplot(data=results_df, x=\"SurvivorCount\", y=\"TilesMovedPerSurvivor\")\n",
    "sns.boxenplot(data=df, x=\"n_save_zones\", y=\"TilesMoved\")"
   ]
  },
  {
   "cell_type": "markdown",
   "id": "a2452c18",
   "metadata": {},
   "source": [
    "### Correlation matrix of chosen cols"
   ]
  },
  {
   "cell_type": "code",
   "execution_count": null,
   "id": "99317058",
   "metadata": {},
   "outputs": [],
   "source": [
    "# choose some columns\n",
    "print(df.columns)\n",
    "df_corr = df.reset_index()\n",
    "df_corr = df_corr[\n",
    "    [\n",
    "        \"width\",\n",
    "        \"height\",\n",
    "        \"MeanWallDensity\",\n",
    "        \"n_survivors\",\n",
    "        \"n_save_zones\",\n",
    "        \"n_robot_agents\",\n",
    "        \"PathlengthMin\",\n",
    "        \"PathlengthMax\",\n",
    "        \"PathlengthMean\",\n",
    "        \"Step\",\n",
    "        \"TotalTilesMoved\",\n",
    "        # \"TilesMovedPerSurvivor\",\n",
    "        # \"TilesMovedPerSaveZone\",\n",
    "    ]\n",
    "]\n",
    "df_corr.rename(\n",
    "    columns={\n",
    "        \"width\": \"Maze width\",\n",
    "        \"height\": \"Maze height\",\n",
    "        \"MeanWallDensity\": \"Walls per tile\",\n",
    "        \"n_survivors\": \"Survivors\",\n",
    "        \"n_save_zones\": \"Savezones\",\n",
    "        \"n_robot_agents\": \"Robots\",\n",
    "        \"PathlengthMin\": \"Min pathlength\",\n",
    "        \"PathlengthMax\": \"Max pathlength\",\n",
    "        \"PathlengthMean\": \"Avg pathlength\",\n",
    "        \"Step\": \"Total steps\",\n",
    "        \"TotalTilesMoved\": \"Tiles moved\",\n",
    "    },\n",
    "    inplace=True,\n",
    ")\n",
    "\n",
    "corr = df_corr.corr()\n",
    "\n",
    "# Correlation matrix with mask for upper triangle as matplotlib figure\n",
    "sns.set_theme(style=\"white\")\n",
    "mask = np.triu(np.ones_like(corr, dtype=bool))\n",
    "\n",
    "f, ax = plt.subplots(figsize=(11, 9))\n",
    "cmap = sns.diverging_palette(230, 20, as_cmap=True)\n",
    "\n",
    "sns.heatmap(\n",
    "    corr,\n",
    "    mask=mask,\n",
    "    cmap=cmap,\n",
    "    vmax=1,\n",
    "    vmin=-1,\n",
    "    center=0,\n",
    "    square=True,\n",
    "    linewidths=0.5,\n",
    "    cbar_kws={\"shrink\": 0.5},\n",
    "    annot=True,\n",
    "    fmt=\".2f\",\n",
    ")\n",
    "plt.title(\"Correlation matrix\")\n",
    "plt.xticks(rotation=75, ha=\"right\")\n",
    "plt.savefig(\"./output/correlation_heatmap.png\", dpi=300, bbox_inches=\"tight\")"
   ]
  },
  {
   "cell_type": "markdown",
   "id": "06b3f05d",
   "metadata": {},
   "source": [
    "### "
   ]
  }
 ],
 "metadata": {
  "kernelspec": {
   "display_name": ".venv",
   "language": "python",
   "name": "python3"
  },
  "language_info": {
   "codemirror_mode": {
    "name": "ipython",
    "version": 3
   },
   "file_extension": ".py",
   "mimetype": "text/x-python",
   "name": "python",
   "nbconvert_exporter": "python",
   "pygments_lexer": "ipython3",
   "version": "3.13.2"
  }
 },
 "nbformat": 4,
 "nbformat_minor": 5
}
