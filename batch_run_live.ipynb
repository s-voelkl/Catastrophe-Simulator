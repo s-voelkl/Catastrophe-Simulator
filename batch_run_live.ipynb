{
 "cells": [
  {
   "cell_type": "markdown",
   "id": "03428bf9",
   "metadata": {},
   "source": [
    "# Live Vorführung des batch-runs"
   ]
  },
  {
   "cell_type": "code",
   "execution_count": null,
   "id": "ee213d84",
   "metadata": {},
   "outputs": [],
   "source": [
    "from schema import *\n",
    "from typing import Dict\n",
    "import pandas as pd"
   ]
  },
  {
   "cell_type": "code",
   "execution_count": null,
   "id": "748b67ea",
   "metadata": {},
   "outputs": [],
   "source": [
    "# Paramter für die Simulationen festlegen\n",
    "parameters: Dict = {\n",
    "    \"width\": 10,\n",
    "    \"height\": 10,\n",
    "    \"n_survivors\": range(4, 7),\n",
    "    \"n_save_zones\": range(3, 6),\n",
    "    \"n_robot_agents\": 1,\n",
    "    \"seed\": 42,\n",
    "}"
   ]
  },
  {
   "cell_type": "code",
   "execution_count": null,
   "id": "2e0d6039",
   "metadata": {},
   "outputs": [],
   "source": [
    "# batch-run durchführen\n",
    "batch_results = mesa.batch_run(\n",
    "    model_cls=EnvironmentModel,  # <-- Model-Klasse 🏗️\n",
    "    parameters=parameters,  # <-- Parameter 🔧\n",
    "    iterations=1,  # <-- Für jede Parameter-Kombination 🔢\n",
    "    number_processes=None,  # <-- Multithreading 💪\n",
    "    data_collection_period=-1,  # <-- Datensammlung 💾\n",
    "    display_progress=True,  # <-- Fortschritt anzeigen 📶\n",
    "    max_steps=1000,  # <-- Max. Steps pro Simulation ⏳\n",
    ")"
   ]
  },
  {
   "cell_type": "code",
   "execution_count": null,
   "id": "418dea0c",
   "metadata": {},
   "outputs": [],
   "source": [
    "# in pandas.DataFrame umwandeln\n",
    "df = pd.DataFrame(batch_results)\n",
    "\n",
    "print(f\"Anzahl der Simulationen: {len(df)}\")\n",
    "df.head(2)"
   ]
  }
 ],
 "metadata": {
  "kernelspec": {
   "display_name": ".venv",
   "language": "python",
   "name": "python3"
  },
  "language_info": {
   "codemirror_mode": {
    "name": "ipython",
    "version": 3
   },
   "file_extension": ".py",
   "mimetype": "text/x-python",
   "name": "python",
   "nbconvert_exporter": "python",
   "pygments_lexer": "ipython3",
   "version": "3.13.3"
  }
 },
 "nbformat": 4,
 "nbformat_minor": 5
}
