{
 "cells": [
  {
   "cell_type": "markdown",
   "id": "03428bf9",
   "metadata": {},
   "source": [
    "# Live Vorführung des batch-runs"
   ]
  },
  {
   "cell_type": "code",
   "execution_count": 7,
   "id": "ee213d84",
   "metadata": {},
   "outputs": [],
   "source": [
    "from schema import *\n",
    "from typing import Dict\n",
    "import pandas as pd\n",
    "\n",
    "PICKLE_FILE = \"./output/batch_results.pkl\""
   ]
  },
  {
   "cell_type": "code",
   "execution_count": 8,
   "id": "2e0d6039",
   "metadata": {},
   "outputs": [
    {
     "name": "stderr",
     "output_type": "stream",
     "text": [
      "100%|██████████| 9/9 [00:02<00:00,  3.04it/s]"
     ]
    },
    {
     "name": "stdout",
     "output_type": "stream",
     "text": [
      "Anzahl der Simulationen: 9\n"
     ]
    },
    {
     "name": "stderr",
     "output_type": "stream",
     "text": [
      "\n"
     ]
    },
    {
     "data": {
      "text/html": [
       "<div>\n",
       "<style scoped>\n",
       "    .dataframe tbody tr th:only-of-type {\n",
       "        vertical-align: middle;\n",
       "    }\n",
       "\n",
       "    .dataframe tbody tr th {\n",
       "        vertical-align: top;\n",
       "    }\n",
       "\n",
       "    .dataframe thead th {\n",
       "        text-align: right;\n",
       "    }\n",
       "</style>\n",
       "<table border=\"1\" class=\"dataframe\">\n",
       "  <thead>\n",
       "    <tr style=\"text-align: right;\">\n",
       "      <th></th>\n",
       "      <th>RunId</th>\n",
       "      <th>iteration</th>\n",
       "      <th>Step</th>\n",
       "      <th>width</th>\n",
       "      <th>height</th>\n",
       "      <th>n_survivors</th>\n",
       "      <th>n_save_zones</th>\n",
       "      <th>n_robot_agents</th>\n",
       "      <th>seed</th>\n",
       "      <th>Survivors</th>\n",
       "      <th>...</th>\n",
       "      <th>TotalTilesMoved</th>\n",
       "      <th>TotalSurvivorsPickedUp</th>\n",
       "      <th>TotalSurvivorsPlacedDown</th>\n",
       "      <th>AgentID</th>\n",
       "      <th>Tile</th>\n",
       "      <th>TransportedSurvivor</th>\n",
       "      <th>TilesMoved</th>\n",
       "      <th>SurvivorsPickedUp</th>\n",
       "      <th>SurvivorsPlacedDown</th>\n",
       "      <th>StillRunning</th>\n",
       "    </tr>\n",
       "  </thead>\n",
       "  <tbody>\n",
       "    <tr>\n",
       "      <th>0</th>\n",
       "      <td>0</td>\n",
       "      <td>0</td>\n",
       "      <td>16</td>\n",
       "      <td>10</td>\n",
       "      <td>10</td>\n",
       "      <td>4</td>\n",
       "      <td>3</td>\n",
       "      <td>1</td>\n",
       "      <td>42</td>\n",
       "      <td>[&lt;schema.Survivor object at 0x00000245A080FAD0...</td>\n",
       "      <td>...</td>\n",
       "      <td>87</td>\n",
       "      <td>4</td>\n",
       "      <td>3</td>\n",
       "      <td>1</td>\n",
       "      <td>&lt;schema.Tile object at 0x00000245A081C950&gt;</td>\n",
       "      <td>None</td>\n",
       "      <td>87</td>\n",
       "      <td>4</td>\n",
       "      <td>4</td>\n",
       "      <td>True</td>\n",
       "    </tr>\n",
       "    <tr>\n",
       "      <th>1</th>\n",
       "      <td>1</td>\n",
       "      <td>0</td>\n",
       "      <td>16</td>\n",
       "      <td>10</td>\n",
       "      <td>10</td>\n",
       "      <td>4</td>\n",
       "      <td>4</td>\n",
       "      <td>1</td>\n",
       "      <td>42</td>\n",
       "      <td>[&lt;schema.Survivor object at 0x00000245A081C770...</td>\n",
       "      <td>...</td>\n",
       "      <td>70</td>\n",
       "      <td>4</td>\n",
       "      <td>3</td>\n",
       "      <td>1</td>\n",
       "      <td>&lt;schema.Tile object at 0x00000245A081C7D0&gt;</td>\n",
       "      <td>None</td>\n",
       "      <td>70</td>\n",
       "      <td>4</td>\n",
       "      <td>4</td>\n",
       "      <td>True</td>\n",
       "    </tr>\n",
       "  </tbody>\n",
       "</table>\n",
       "<p>2 rows × 29 columns</p>\n",
       "</div>"
      ],
      "text/plain": [
       "   RunId  iteration  Step  width  height  n_survivors  n_save_zones  \\\n",
       "0      0          0    16     10      10            4             3   \n",
       "1      1          0    16     10      10            4             4   \n",
       "\n",
       "   n_robot_agents  seed                                          Survivors  \\\n",
       "0               1    42  [<schema.Survivor object at 0x00000245A080FAD0...   \n",
       "1               1    42  [<schema.Survivor object at 0x00000245A081C770...   \n",
       "\n",
       "   ... TotalTilesMoved  TotalSurvivorsPickedUp  TotalSurvivorsPlacedDown  \\\n",
       "0  ...              87                       4                         3   \n",
       "1  ...              70                       4                         3   \n",
       "\n",
       "   AgentID                                        Tile  TransportedSurvivor  \\\n",
       "0        1  <schema.Tile object at 0x00000245A081C950>                 None   \n",
       "1        1  <schema.Tile object at 0x00000245A081C7D0>                 None   \n",
       "\n",
       "   TilesMoved  SurvivorsPickedUp  SurvivorsPlacedDown  StillRunning  \n",
       "0          87                  4                    4          True  \n",
       "1          70                  4                    4          True  \n",
       "\n",
       "[2 rows x 29 columns]"
      ]
     },
     "execution_count": 8,
     "metadata": {},
     "output_type": "execute_result"
    }
   ],
   "source": [
    "# Paramter für die Simulationen festlegen\n",
    "parameters: Dict = {\n",
    "    \"width\": 10,\n",
    "    \"height\": 10,\n",
    "    \"n_survivors\": range(4, 7),\n",
    "    \"n_save_zones\": range(3, 6),\n",
    "    \"n_robot_agents\": 1,\n",
    "    \"seed\": 42,\n",
    "}\n",
    "\n",
    "# batch-run durchführen\n",
    "batch_results = mesa.batch_run(\n",
    "    model_cls=EnvironmentModel,  # <-- Model-Klasse 🏗️\n",
    "    parameters=parameters,  # <-- Parameter 🔧\n",
    "    iterations=1,  # <-- Für jede Parameter-Kombination 🔢\n",
    "    number_processes=None,  # <-- Multithreading 💪\n",
    "    data_collection_period=-1,  # <-- Datensammlung 💾\n",
    "    display_progress=True,  # <-- Fortschritt anzeigen 📶\n",
    "    max_steps=1000,  # <-- Max. Steps pro Simulation ⏳\n",
    ")\n",
    "\n",
    "# in pandas.DataFrame umwandeln\n",
    "df = pd.DataFrame(batch_results)\n",
    "print(f\"Anzahl der Simulationen: {len(df)}\")\n",
    "df.head(2)"
   ]
  }
 ],
 "metadata": {
  "kernelspec": {
   "display_name": ".venv",
   "language": "python",
   "name": "python3"
  },
  "language_info": {
   "codemirror_mode": {
    "name": "ipython",
    "version": 3
   },
   "file_extension": ".py",
   "mimetype": "text/x-python",
   "name": "python",
   "nbconvert_exporter": "python",
   "pygments_lexer": "ipython3",
   "version": "3.13.3"
  }
 },
 "nbformat": 4,
 "nbformat_minor": 5
}
